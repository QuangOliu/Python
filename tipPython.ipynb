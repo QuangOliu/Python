{
  "nbformat": 4,
  "nbformat_minor": 0,
  "metadata": {
    "colab": {
      "provenance": [],
      "collapsed_sections": [
        "DEpZSnauq_bo",
        "gKwWsxT5zByC"
      ],
      "toc_visible": true
    },
    "kernelspec": {
      "name": "python3",
      "display_name": "Python 3"
    },
    "language_info": {
      "name": "python"
    }
  },
  "cells": [
    {
      "cell_type": "markdown",
      "source": [
        "# Tip Python base"
      ],
      "metadata": {
        "id": "DEpZSnauq_bo"
      }
    },
    {
      "cell_type": "code",
      "source": [
        "#1 Hoán đổi vị trí\n",
        "a = 1\n",
        "b = 3\n",
        "a, b = b , a\n",
        "print(a, b)"
      ],
      "metadata": {
        "colab": {
          "base_uri": "https://localhost:8080/"
        },
        "id": "vSrERkvlj4Ka",
        "outputId": "676b3ffa-414c-4cbb-e017-82b6fbf209a1"
      },
      "execution_count": 3,
      "outputs": [
        {
          "output_type": "stream",
          "name": "stdout",
          "text": [
            "3 1\n"
          ]
        }
      ]
    },
    {
      "cell_type": "code",
      "execution_count": 7,
      "metadata": {
        "colab": {
          "base_uri": "https://localhost:8080/"
        },
        "id": "7neroYsrjbdU",
        "outputId": "c22f51d9-7bff-48ef-f0bc-415c6abcb04f"
      },
      "outputs": [
        {
          "output_type": "stream",
          "name": "stdout",
          "text": [
            "[1, 2, 3, 4, 5]\n",
            "1 2 3 4 5\n",
            "1 2 3 4 5!\n",
            "1+2+3+4+5!"
          ]
        }
      ],
      "source": [
        "#2 in list trong python\n",
        "a = [1, 2, 3, 4, 5];\n",
        "\n",
        "print(a)\n",
        "print(*a)\n",
        "print(*a,end=\"!\\n\")\n",
        "print(*a,sep=\"+\",end=\"!\")\n",
        "\f"
      ]
    },
    {
      "cell_type": "code",
      "source": [
        "#3. đảo list\n",
        "a = ['a', 'b', 'c', 'd', 'e']\n",
        "a.reverse()\n",
        "\n",
        "print(*a)\n",
        "print(a)\n",
        "\n",
        "print(a[0:len(a)])\n",
        "print(a[0:2])\n",
        "print(a[3:0:-1])\n",
        "\f"
      ],
      "metadata": {
        "colab": {
          "base_uri": "https://localhost:8080/"
        },
        "id": "ScEcKOlGkilC",
        "outputId": "77e46397-1d8f-466f-d099-d75c23b54cd0"
      },
      "execution_count": 11,
      "outputs": [
        {
          "output_type": "stream",
          "name": "stdout",
          "text": [
            "e d c b a\n",
            "['e', 'd', 'c', 'b', 'a']\n",
            "['e', 'd', 'c', 'b', 'a']\n",
            "['e', 'd']\n",
            "['b', 'c', 'd']\n"
          ]
        }
      ]
    },
    {
      "cell_type": "code",
      "source": [
        "# 4. Đếm số lần xuất hiện\n",
        "from collections import Counter\n",
        "a = ['a','a','a', 'b','b','b', 'c', 'd', 'd', 'd', 'd', 'd', 'e']\n",
        "f = Counter(a)\n",
        "print(f['b'])"
      ],
      "metadata": {
        "colab": {
          "base_uri": "https://localhost:8080/"
        },
        "id": "Y8LdkFX1lKa-",
        "outputId": "d198e0c5-db6b-4cc0-e7ba-bb994b05e40d"
      },
      "execution_count": 12,
      "outputs": [
        {
          "output_type": "stream",
          "name": "stdout",
          "text": [
            "3\n"
          ]
        }
      ]
    },
    {
      "cell_type": "code",
      "source": [
        "# 5. giá trị thường xuyên nhât:\n",
        "a = ['a','a','a', 'b','b','b', 'c', 'd', 'd', 'd', 'd', 'd', 'e']\n",
        "\n",
        "print(max(set(a),key=a.count))\n",
        "\f"
      ],
      "metadata": {
        "colab": {
          "base_uri": "https://localhost:8080/"
        },
        "id": "OH0qnGGTlrrH",
        "outputId": "66ec915e-e860-4a42-ba9f-284073891e51"
      },
      "execution_count": 13,
      "outputs": [
        {
          "output_type": "stream",
          "name": "stdout",
          "text": [
            "d\n"
          ]
        }
      ]
    },
    {
      "cell_type": "code",
      "source": [
        "# 6. in chuỗi đảo ngược\n",
        "s = \"12321\"\n",
        "s = s[::-1]\n",
        "print(s)\n",
        "if s == s[::-1]: print(\"chuoi doi xung\")"
      ],
      "metadata": {
        "colab": {
          "base_uri": "https://localhost:8080/"
        },
        "id": "suNLMNs9mDJC",
        "outputId": "a1f91390-b749-409d-cade-9f0c538f1944"
      },
      "execution_count": 16,
      "outputs": [
        {
          "output_type": "stream",
          "name": "stdout",
          "text": [
            "12321\n",
            "chuoi doi xung\n"
          ]
        }
      ]
    },
    {
      "cell_type": "code",
      "source": [
        "#7. Tách một chuỗi thành một list\n",
        "s = \"hello cac ban nho\"\n",
        "print(s.split());\n"
      ],
      "metadata": {
        "colab": {
          "base_uri": "https://localhost:8080/"
        },
        "id": "iNS-OG55mkgf",
        "outputId": "5f61b057-d8f7-4d9e-94fc-b2befef0b299"
      },
      "execution_count": 17,
      "outputs": [
        {
          "output_type": "stream",
          "name": "stdout",
          "text": [
            "['hello', 'cac', 'ban', 'nho']\n"
          ]
        }
      ]
    },
    {
      "cell_type": "code",
      "source": [
        "#8. Kết hợp một list các chuỗi thành một chuỗi\n",
        "a = [\"hello\", \"cac\", \"ban\", \"nho\"]\n",
        "print(\"|\".join(a))\n",
        "print(\" \".join(a))"
      ],
      "metadata": {
        "colab": {
          "base_uri": "https://localhost:8080/"
        },
        "id": "kG40UzLPm7la",
        "outputId": "da593e44-336f-415d-f94c-54ca57e57867"
      },
      "execution_count": 24,
      "outputs": [
        {
          "output_type": "stream",
          "name": "stdout",
          "text": [
            "hello|cac|ban|nho\n",
            "hellocacbannho\n"
          ]
        }
      ]
    },
    {
      "cell_type": "code",
      "source": [
        "#9. Kết hợp 2 list, chuyển đổi 2 list thành 1 từ điển\n",
        "a = [\"hello\", \"cac\", \"ban\", \"nho\"]\n",
        "b = [1, 2, 3 , 4]\n",
        "# chuyển thành từ điển\n",
        "d = dict(zip(a, b))\n",
        "print(d)\n",
        "\n",
        "# list a kế thừa các phần tử của list b\n",
        "a.extend(b)\n",
        "print(a)\n",
        "\n",
        "# list a được gắn cả list b\n",
        "a.append(b)\n",
        "print(a)"
      ],
      "metadata": {
        "colab": {
          "base_uri": "https://localhost:8080/"
        },
        "id": "WTtNTuQgnW33",
        "outputId": "cc3b5e79-8754-44b8-baf7-97be984852a9"
      },
      "execution_count": 29,
      "outputs": [
        {
          "output_type": "stream",
          "name": "stdout",
          "text": [
            "{'hello': 1, 'cac': 2, 'ban': 3, 'nho': 4}\n",
            "['hello', 'cac', 'ban', 'nho', 1, 2, 3, 4]\n",
            "['hello', 'cac', 'ban', 'nho', 1, 2, 3, 4, [1, 2, 3, 4]]\n"
          ]
        }
      ]
    },
    {
      "cell_type": "code",
      "source": [
        "# if else 1 dong\n",
        "y = 10\n",
        "x = 10 if (y != 10) else 20\n",
        "print(x)"
      ],
      "metadata": {
        "colab": {
          "base_uri": "https://localhost:8080/"
        },
        "id": "2IvKNNRLomHe",
        "outputId": "5202f5ff-e7b4-43ca-f4ce-8051501e2302"
      },
      "execution_count": 32,
      "outputs": [
        {
          "output_type": "stream",
          "name": "stdout",
          "text": [
            "20\n"
          ]
        }
      ]
    },
    {
      "cell_type": "code",
      "source": [
        "#if else thong minh hon\n",
        "a = 1\n",
        "b = 2\n",
        "c = 3\n",
        "if a : print(\"a khac khong\")\n",
        "if not a: print(\"a bang khong\")\n",
        "if \"String\" : print(\"chuoi khong rong\")"
      ],
      "metadata": {
        "colab": {
          "base_uri": "https://localhost:8080/"
        },
        "id": "19KhmYMdozTz",
        "outputId": "8628375a-7e1d-4a30-bedb-538614e2f534"
      },
      "execution_count": 33,
      "outputs": [
        {
          "output_type": "stream",
          "name": "stdout",
          "text": [
            "a khac khong\n",
            "chuoi khong rong\n"
          ]
        }
      ]
    },
    {
      "cell_type": "markdown",
      "source": [
        "# Tip Python List"
      ],
      "metadata": {
        "id": "gKwWsxT5zByC"
      }
    },
    {
      "cell_type": "markdown",
      "source": [
        "**2. enumerate**"
      ],
      "metadata": {
        "id": "DUUS3_0azcgE"
      }
    },
    {
      "cell_type": "code",
      "source": [
        "a=[1,2,3,4]\n",
        "for i, val in enumerate(a):\n",
        "    print('Index {} in array is: {}'.format(i, '%.5f'%val))"
      ],
      "metadata": {
        "colab": {
          "base_uri": "https://localhost:8080/"
        },
        "id": "kggdLEfrzRCq",
        "outputId": "6ca116c6-e894-42f0-f688-9fb1915340a9"
      },
      "execution_count": 35,
      "outputs": [
        {
          "output_type": "stream",
          "name": "stdout",
          "text": [
            "Index 0 in array is: 1.00000\n",
            "Index 1 in array is: 2.00000\n",
            "Index 2 in array is: 3.00000\n",
            "Index 3 in array is: 4.00000\n"
          ]
        }
      ]
    },
    {
      "cell_type": "markdown",
      "source": [
        "**3. Thêm**"
      ],
      "metadata": {
        "id": "ZMYoNiB3zktj"
      }
    },
    {
      "cell_type": "code",
      "source": [
        "a = [1, 2, 3, 4]\n",
        "a.insert(0, 5)\n",
        "\n",
        "print(a)\n",
        "\n",
        "a.append(6)\n",
        "print(a)"
      ],
      "metadata": {
        "colab": {
          "base_uri": "https://localhost:8080/"
        },
        "id": "5iG8fNYCzt7z",
        "outputId": "1644c243-d925-432a-ce35-d584a27405d3"
      },
      "execution_count": 36,
      "outputs": [
        {
          "output_type": "stream",
          "name": "stdout",
          "text": [
            "[5, 1, 2, 3, 4]\n",
            "[5, 1, 2, 3, 4, 6]\n"
          ]
        }
      ]
    },
    {
      "cell_type": "markdown",
      "source": [
        "**4. gộp 2 mảng**"
      ],
      "metadata": {
        "id": "T0pnpDly0UQh"
      }
    },
    {
      "cell_type": "code",
      "source": [
        "a = [\"apple\", \"banana\", \"orange\"]\n",
        "b = [1, 2, 3]\n",
        "\n",
        "a.extend(b)\n",
        "print(a)\n",
        "\n",
        "c = a + b\n",
        "print(c)"
      ],
      "metadata": {
        "colab": {
          "base_uri": "https://localhost:8080/"
        },
        "id": "CKqzBSnh0bRQ",
        "outputId": "7c183b76-4d6f-46a3-e185-d8bf2bf02bba"
      },
      "execution_count": 37,
      "outputs": [
        {
          "output_type": "stream",
          "name": "stdout",
          "text": [
            "['apple', 'banana', 'orange', 1, 2, 3]\n",
            "['apple', 'banana', 'orange', 1, 2, 3, 1, 2, 3]\n"
          ]
        }
      ]
    },
    {
      "cell_type": "markdown",
      "source": [
        "**5. Xóa**"
      ],
      "metadata": {
        "id": "5m8qAWOa06yX"
      }
    },
    {
      "cell_type": "code",
      "source": [
        "a = [1, 2, 3, 4, 5]\n",
        "\n",
        "a.pop(3)\n",
        "print(a)\n",
        "\n",
        "a.remove(3)\n",
        "print(a)"
      ],
      "metadata": {
        "colab": {
          "base_uri": "https://localhost:8080/"
        },
        "id": "0Ge2Cc5x0-ax",
        "outputId": "bbe6a887-b4fe-4c02-a213-ff6f14737645"
      },
      "execution_count": 40,
      "outputs": [
        {
          "output_type": "stream",
          "name": "stdout",
          "text": [
            "[1, 2, 3, 5]\n",
            "[1, 2, 5]\n"
          ]
        }
      ]
    },
    {
      "cell_type": "markdown",
      "source": [
        "**6. Sao chep**"
      ],
      "metadata": {
        "id": "UAsIW6Qj1sty"
      }
    },
    {
      "cell_type": "code",
      "source": [
        "a = [\"apple\", \"banana\", \"orange\"]\n",
        "b = a.copy()\n",
        "\n",
        "print(b)\n",
        "\n",
        "c= a[:]\n",
        "print(c)\n"
      ],
      "metadata": {
        "colab": {
          "base_uri": "https://localhost:8080/"
        },
        "id": "fbYwScNz1wDU",
        "outputId": "36e53362-e569-4459-bdcd-84a985db956c"
      },
      "execution_count": 43,
      "outputs": [
        {
          "output_type": "stream",
          "name": "stdout",
          "text": [
            "['apple', 'banana', 'orange']\n",
            "['apple', 'banana', 'orange']\n"
          ]
        }
      ]
    },
    {
      "cell_type": "markdown",
      "source": [
        "**7. Sắp xếp**"
      ],
      "metadata": {
        "id": "AVRXCago2FJr"
      }
    },
    {
      "cell_type": "code",
      "source": [
        "a=[1, 2, 3, 4]\n",
        "a.sort(reverse=True)\n",
        "print(a)\n",
        "\n",
        "a.reverse()\n",
        "print(a)\n",
        "\n",
        "a[0:3] = sorted(a[0:3],reverse=True)\n",
        "print(a)\n",
        "\n",
        "span = ['a', 'z', 'A', 'Z']\n",
        "span.sort(key=str.lower)\n",
        "print(span)"
      ],
      "metadata": {
        "colab": {
          "base_uri": "https://localhost:8080/"
        },
        "id": "oCdI4mVs2Iwk",
        "outputId": "2f6f181d-052c-4cad-d82a-2e4306905bba"
      },
      "execution_count": 49,
      "outputs": [
        {
          "output_type": "stream",
          "name": "stdout",
          "text": [
            "[4, 3, 2, 1]\n",
            "[1, 2, 3, 4]\n",
            "[3, 2, 1, 4]\n",
            "['a', 'A', 'z', 'Z']\n"
          ]
        }
      ]
    },
    {
      "cell_type": "code",
      "source": [
        "a=[[1,2],[5,6],[3,7]]\n",
        "a.sort()\n",
        "print(a)\n",
        "\n",
        "a= sorted(a, key=lambda l:l[1], reverse=True)\n",
        "print(a)"
      ],
      "metadata": {
        "colab": {
          "base_uri": "https://localhost:8080/"
        },
        "id": "02S5chD-3FNF",
        "outputId": "672fa59b-ba93-4d93-d0fc-68d2216f1a82"
      },
      "execution_count": 53,
      "outputs": [
        {
          "output_type": "stream",
          "name": "stdout",
          "text": [
            "[[1, 2], [3, 7], [5, 6]]\n",
            "[[3, 7], [5, 6], [1, 2]]\n"
          ]
        }
      ]
    },
    {
      "cell_type": "markdown",
      "source": [
        "**8.index và count**"
      ],
      "metadata": {
        "id": "YwpN-rJQ39u2"
      }
    },
    {
      "cell_type": "code",
      "source": [
        "a=[1,2,3,4,1]\n",
        "print(a.index(1)) # trả về vị trí của giá trị\n",
        "print(a.count(1)) "
      ],
      "metadata": {
        "colab": {
          "base_uri": "https://localhost:8080/"
        },
        "id": "f48mlmeb4CqP",
        "outputId": "fd1b0522-3fd1-4960-c5a3-ffe10f970c2a"
      },
      "execution_count": 54,
      "outputs": [
        {
          "output_type": "stream",
          "name": "stdout",
          "text": [
            "0\n",
            "2\n"
          ]
        }
      ]
    },
    {
      "cell_type": "markdown",
      "source": [
        "**9.sum, min,max**"
      ],
      "metadata": {
        "id": "OfL35Yg14I_C"
      }
    },
    {
      "cell_type": "code",
      "source": [
        "a=[1,2,3,4]\n",
        "sum = sum(a)\n",
        "print(sum)\n",
        "\n",
        "max = max(a)\n",
        "print(max)\n",
        "\n",
        "min = min(a)\n",
        "print(min)\n",
        "\n",
        "# có cả max , min"
      ],
      "metadata": {
        "colab": {
          "base_uri": "https://localhost:8080/"
        },
        "id": "ga0tZytX4MFt",
        "outputId": "853258f2-4309-4cd4-c8cf-6ea8ed8c0729"
      },
      "execution_count": 56,
      "outputs": [
        {
          "output_type": "stream",
          "name": "stdout",
          "text": [
            "10\n",
            "4\n",
            "1\n"
          ]
        }
      ]
    },
    {
      "cell_type": "markdown",
      "source": [
        "**10 chuyển từ chuỗi và từ điển sang list**"
      ],
      "metadata": {
        "id": "MGIdm5k94c2q"
      }
    },
    {
      "cell_type": "code",
      "source": [
        "# Chuyển từ chuỗi sang list\n",
        "s=\"123456788\"\n",
        "\n",
        "a1= list(s)\n",
        "a2 = [int(i) for i in a1]\n",
        "print(a1, a2, sep='\\n')\n",
        "\n",
        "# Chuyển từ từ điển sang list\n",
        "d={12: 1, 43: 3, 56: 2, 14: 2, 11: 2}\n",
        "\n",
        "d = list(d.items())\n",
        "print(d)\n",
        "\n",
        "d = [list(i) for i in d]\n",
        "print(d)"
      ],
      "metadata": {
        "colab": {
          "base_uri": "https://localhost:8080/"
        },
        "id": "3k1TsxB44wU_",
        "outputId": "e2340a8c-38d8-40c3-d613-572b2018eec9"
      },
      "execution_count": 68,
      "outputs": [
        {
          "output_type": "stream",
          "name": "stdout",
          "text": [
            "['1', '2', '3', '4', '5', '6', '7', '8', '8']\n",
            "[1, 2, 3, 4, 5, 6, 7, 8, 8]\n",
            "[(12, 1), (43, 3), (56, 2), (14, 2), (11, 2)]\n",
            "[[12, 1], [43, 3], [56, 2], [14, 2], [11, 2]]\n"
          ]
        }
      ]
    }
  ]
}